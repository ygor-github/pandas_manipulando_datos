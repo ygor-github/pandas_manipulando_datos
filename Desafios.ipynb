{
 "cells": [
  {
   "cell_type": "markdown",
   "id": "fe2d41c0-63db-4eb5-bae7-8e00737ba523",
   "metadata": {},
   "source": [
    "Chegou a hora de pôr em prática tudo o que aprendemos durante as aulas. Preparei dois projetos extras para desenvolvermos durante o curso, para garantir que possamos praticar bastante! Para isso, vamos trabalhar com 2 novos conjuntos de dados, mas que dessa vez serão bem menores. As bases de dados estão disponíveis para download abaixo:\n",
    "\n",
    ">Projeto desafio 1: vendas online - dados_vendas_clientes.json; "
   ]
  },
  {
   "cell_type": "code",
   "execution_count": 2,
   "id": "899439c2-d42a-47ff-854c-fa2d3ca1bdad",
   "metadata": {},
   "outputs": [],
   "source": [
    "url1 = 'https://cdn3.gnarususercontent.com.br/2928-transformacao-manipulacao-dados/dados_vendas_clientes.json'"
   ]
  },
  {
   "cell_type": "markdown",
   "id": "380e5072-2d19-4b59-9098-98602ebfcc43",
   "metadata": {},
   "source": [
    ">Projeto desafio 2: administração de condomínios - dados_locacao_imoveis.json."
   ]
  },
  {
   "cell_type": "code",
   "execution_count": 3,
   "id": "047a6558-bdde-402e-b9b1-bd2013244ae9",
   "metadata": {},
   "outputs": [],
   "source": [
    "url2 = 'https://cdn3.gnarususercontent.com.br/2928-transformacao-manipulacao-dados/dados_locacao_imoveis.json'"
   ]
  },
  {
   "cell_type": "markdown",
   "id": "f8f4e75f-e72f-4d6b-9843-33a1d6433854",
   "metadata": {},
   "source": [
    "Em cada aula, desenvolveremos uma etapa dos projetos. Portanto, salve seu código de construção em cada desafio para que possa aplicá-lo nos desafios posteriores.\n",
    "\n",
    "Etapa 1\n",
    "Projeto desafio 1: vendas online\n",
    "O objetivo desse projeto é realizar uma análise dos resultados de um evento com os clientes de uma empresa de vendas online. Foi coletado um conjunto de dados que contém os clientes que mais gastaram com produtos dentro de 5 dias de vendas, que é o período de duração do evento. Essa análise vai identificar o cliente com a maior compra na semana, que irá receber um prêmio da loja, e posteriormente, ela pode ajudar a empresa a criar novas estratégias para atrair mais clientes.\n",
    "\n",
    "A base de dados utilizada nessa análise é a dados_vendas_clientes.json e contém informações importantes sobre os clientes como, o nome de cadastro do cliente, o valor total pago na compra e o dia da compra.\n",
    "\n",
    "Sabendo essas informações, o desafio do projeto 1: vendas online será abrir a base de dados com Pandas e aplicar o json_normalize."
   ]
  },
  {
   "cell_type": "code",
   "execution_count": 4,
   "id": "14a481f3-43ea-4980-8dc0-fe0954663167",
   "metadata": {},
   "outputs": [],
   "source": [
    "import requests\n",
    "import pandas as pd"
   ]
  },
  {
   "cell_type": "code",
   "execution_count": 6,
   "id": "862d8bee-0681-41cc-bbb9-1c88ea776488",
   "metadata": {},
   "outputs": [
    {
     "data": {
      "text/plain": [
       "200"
      ]
     },
     "execution_count": 6,
     "metadata": {},
     "output_type": "execute_result"
    }
   ],
   "source": [
    "respuesta1 = requests.get(url1)\n",
    "respuesta1.status_code"
   ]
  },
  {
   "cell_type": "code",
   "execution_count": 16,
   "id": "956328da-16dc-4a6c-b23c-341f49a4161a",
   "metadata": {},
   "outputs": [
    {
     "data": {
      "text/plain": [
       "dict"
      ]
     },
     "execution_count": 16,
     "metadata": {},
     "output_type": "execute_result"
    }
   ],
   "source": [
    "ventas_evento_json = respuesta1.json()\n",
    "type(ventas_evento)\n"
   ]
  },
  {
   "cell_type": "code",
   "execution_count": 35,
   "id": "8b31ca77-a58e-4741-8016-f05ff85292d0",
   "metadata": {},
   "outputs": [
    {
     "data": {
      "text/plain": [
       "dict_items([('dados_vendas', [{'Data de venda': '06/06/2022', 'Cliente': ['@ANA _LUCIA 321', 'DieGO ARMANDIU 210', 'DieGO ARMANDIU 210', 'DieGO ARMANDIU 210'], 'Valor da compra': ['R$ 836,5', 'R$ 573,33', 'R$ 392,8', 'R$ 512,34']}, {'Data de venda': '07/06/2022', 'Cliente': ['Isabely JOanes 738', 'Isabely JOanes 738', 'Isabely JOanes 738', 'Isabely JOanes 738'], 'Valor da compra': ['R$ 825,31', 'R$ 168,07', 'R$ 339,18', 'R$ 314,69']}, {'Data de venda': '08/06/2022', 'Cliente': ['Isabely JOanes 738', 'JOãO Gabriel 671', 'Julya meireles 914', 'Julya meireles 914'], 'Valor da compra': ['R$ 682,05', 'R$ 386,34', 'R$ 622,65', 'R$ 630,79']}, {'Data de venda': '09/06/2022', 'Cliente': ['Julya meireles 914', 'MaRIA Julia 444', 'MaRIA Julia 444', 'MaRIA Julia 444'], 'Valor da compra': ['R$ 390,3', 'R$ 759,16', 'R$ 334,47', 'R$ 678,78']}, {'Data de venda': '10/06/2022', 'Cliente': ['MaRIA Julia 444', 'PEDRO PASCO 812', 'Paulo castro 481', 'Thiago fritzz 883'], 'Valor da compra': ['R$ 314,24', 'R$ 311,15', 'R$ 899,16', 'R$ 885,24']}])])"
      ]
     },
     "execution_count": 35,
     "metadata": {},
     "output_type": "execute_result"
    }
   ],
   "source": [
    "ventas_evento_json.items()"
   ]
  },
  {
   "cell_type": "code",
   "execution_count": 28,
   "id": "7120c3a1-7e9c-4f90-aa36-9db244de2e0c",
   "metadata": {},
   "outputs": [
    {
     "data": {
      "text/html": [
       "<div>\n",
       "<style scoped>\n",
       "    .dataframe tbody tr th:only-of-type {\n",
       "        vertical-align: middle;\n",
       "    }\n",
       "\n",
       "    .dataframe tbody tr th {\n",
       "        vertical-align: top;\n",
       "    }\n",
       "\n",
       "    .dataframe thead th {\n",
       "        text-align: right;\n",
       "    }\n",
       "</style>\n",
       "<table border=\"1\" class=\"dataframe\">\n",
       "  <thead>\n",
       "    <tr style=\"text-align: right;\">\n",
       "      <th></th>\n",
       "      <th>Data de venda</th>\n",
       "      <th>Cliente</th>\n",
       "      <th>Valor da compra</th>\n",
       "    </tr>\n",
       "  </thead>\n",
       "  <tbody>\n",
       "    <tr>\n",
       "      <th>0</th>\n",
       "      <td>06/06/2022</td>\n",
       "      <td>[@ANA _LUCIA 321, DieGO ARMANDIU 210, DieGO AR...</td>\n",
       "      <td>[R$ 836,5, R$ 573,33, R$ 392,8, R$ 512,34]</td>\n",
       "    </tr>\n",
       "    <tr>\n",
       "      <th>1</th>\n",
       "      <td>07/06/2022</td>\n",
       "      <td>[Isabely JOanes 738, Isabely JOanes 738, Isabe...</td>\n",
       "      <td>[R$ 825,31, R$ 168,07, R$ 339,18, R$ 314,69]</td>\n",
       "    </tr>\n",
       "    <tr>\n",
       "      <th>2</th>\n",
       "      <td>08/06/2022</td>\n",
       "      <td>[Isabely JOanes 738, JOãO Gabriel 671, Julya m...</td>\n",
       "      <td>[R$ 682,05, R$ 386,34, R$ 622,65, R$ 630,79]</td>\n",
       "    </tr>\n",
       "    <tr>\n",
       "      <th>3</th>\n",
       "      <td>09/06/2022</td>\n",
       "      <td>[Julya meireles 914, MaRIA Julia 444, MaRIA Ju...</td>\n",
       "      <td>[R$ 390,3, R$ 759,16, R$ 334,47, R$ 678,78]</td>\n",
       "    </tr>\n",
       "    <tr>\n",
       "      <th>4</th>\n",
       "      <td>10/06/2022</td>\n",
       "      <td>[MaRIA Julia 444, PEDRO PASCO 812, Paulo castr...</td>\n",
       "      <td>[R$ 314,24, R$ 311,15, R$ 899,16, R$ 885,24]</td>\n",
       "    </tr>\n",
       "  </tbody>\n",
       "</table>\n",
       "</div>"
      ],
      "text/plain": [
       "  Data de venda                                            Cliente  \\\n",
       "0    06/06/2022  [@ANA _LUCIA 321, DieGO ARMANDIU 210, DieGO AR...   \n",
       "1    07/06/2022  [Isabely JOanes 738, Isabely JOanes 738, Isabe...   \n",
       "2    08/06/2022  [Isabely JOanes 738, JOãO Gabriel 671, Julya m...   \n",
       "3    09/06/2022  [Julya meireles 914, MaRIA Julia 444, MaRIA Ju...   \n",
       "4    10/06/2022  [MaRIA Julia 444, PEDRO PASCO 812, Paulo castr...   \n",
       "\n",
       "                                Valor da compra  \n",
       "0    [R$ 836,5, R$ 573,33, R$ 392,8, R$ 512,34]  \n",
       "1  [R$ 825,31, R$ 168,07, R$ 339,18, R$ 314,69]  \n",
       "2  [R$ 682,05, R$ 386,34, R$ 622,65, R$ 630,79]  \n",
       "3   [R$ 390,3, R$ 759,16, R$ 334,47, R$ 678,78]  \n",
       "4  [R$ 314,24, R$ 311,15, R$ 899,16, R$ 885,24]  "
      ]
     },
     "execution_count": 28,
     "metadata": {},
     "output_type": "execute_result"
    }
   ],
   "source": [
    "pd.DataFrame(ventas_evento_json['dados_vendas'])"
   ]
  },
  {
   "cell_type": "code",
   "execution_count": 39,
   "id": "fc695de4-d990-4392-98d0-1acf9842a4e3",
   "metadata": {},
   "outputs": [
    {
     "data": {
      "text/html": [
       "<div>\n",
       "<style scoped>\n",
       "    .dataframe tbody tr th:only-of-type {\n",
       "        vertical-align: middle;\n",
       "    }\n",
       "\n",
       "    .dataframe tbody tr th {\n",
       "        vertical-align: top;\n",
       "    }\n",
       "\n",
       "    .dataframe thead th {\n",
       "        text-align: right;\n",
       "    }\n",
       "</style>\n",
       "<table border=\"1\" class=\"dataframe\">\n",
       "  <thead>\n",
       "    <tr style=\"text-align: right;\">\n",
       "      <th></th>\n",
       "      <th>Data de venda</th>\n",
       "      <th>Cliente</th>\n",
       "      <th>Valor da compra</th>\n",
       "    </tr>\n",
       "  </thead>\n",
       "  <tbody>\n",
       "    <tr>\n",
       "      <th>0</th>\n",
       "      <td>06/06/2022</td>\n",
       "      <td>[@ANA _LUCIA 321, DieGO ARMANDIU 210, DieGO AR...</td>\n",
       "      <td>[R$ 836,5, R$ 573,33, R$ 392,8, R$ 512,34]</td>\n",
       "    </tr>\n",
       "    <tr>\n",
       "      <th>1</th>\n",
       "      <td>07/06/2022</td>\n",
       "      <td>[Isabely JOanes 738, Isabely JOanes 738, Isabe...</td>\n",
       "      <td>[R$ 825,31, R$ 168,07, R$ 339,18, R$ 314,69]</td>\n",
       "    </tr>\n",
       "  </tbody>\n",
       "</table>\n",
       "</div>"
      ],
      "text/plain": [
       "  Data de venda                                            Cliente  \\\n",
       "0    06/06/2022  [@ANA _LUCIA 321, DieGO ARMANDIU 210, DieGO AR...   \n",
       "1    07/06/2022  [Isabely JOanes 738, Isabely JOanes 738, Isabe...   \n",
       "\n",
       "                                Valor da compra  \n",
       "0    [R$ 836,5, R$ 573,33, R$ 392,8, R$ 512,34]  \n",
       "1  [R$ 825,31, R$ 168,07, R$ 339,18, R$ 314,69]  "
      ]
     },
     "execution_count": 39,
     "metadata": {},
     "output_type": "execute_result"
    }
   ],
   "source": [
    "df1 = pd.json_normalize(ventas_evento_json['dados_vendas'])\n",
    "df1.head(2)"
   ]
  },
  {
   "cell_type": "code",
   "execution_count": 42,
   "id": "ea7a9a42-d2d3-4125-8c54-1ece8cb476a6",
   "metadata": {},
   "outputs": [
    {
     "data": {
      "text/html": [
       "<div>\n",
       "<style scoped>\n",
       "    .dataframe tbody tr th:only-of-type {\n",
       "        vertical-align: middle;\n",
       "    }\n",
       "\n",
       "    .dataframe tbody tr th {\n",
       "        vertical-align: top;\n",
       "    }\n",
       "\n",
       "    .dataframe thead th {\n",
       "        text-align: right;\n",
       "    }\n",
       "</style>\n",
       "<table border=\"1\" class=\"dataframe\">\n",
       "  <thead>\n",
       "    <tr style=\"text-align: right;\">\n",
       "      <th></th>\n",
       "      <th>Data de venda</th>\n",
       "      <th>Cliente</th>\n",
       "      <th>Valor da compra</th>\n",
       "    </tr>\n",
       "  </thead>\n",
       "  <tbody>\n",
       "    <tr>\n",
       "      <th>0</th>\n",
       "      <td>06/06/2022</td>\n",
       "      <td>@ANA _LUCIA 321</td>\n",
       "      <td>R$ 836,5</td>\n",
       "    </tr>\n",
       "    <tr>\n",
       "      <th>1</th>\n",
       "      <td>06/06/2022</td>\n",
       "      <td>DieGO ARMANDIU 210</td>\n",
       "      <td>R$ 573,33</td>\n",
       "    </tr>\n",
       "    <tr>\n",
       "      <th>2</th>\n",
       "      <td>06/06/2022</td>\n",
       "      <td>DieGO ARMANDIU 210</td>\n",
       "      <td>R$ 392,8</td>\n",
       "    </tr>\n",
       "    <tr>\n",
       "      <th>3</th>\n",
       "      <td>06/06/2022</td>\n",
       "      <td>DieGO ARMANDIU 210</td>\n",
       "      <td>R$ 512,34</td>\n",
       "    </tr>\n",
       "    <tr>\n",
       "      <th>4</th>\n",
       "      <td>07/06/2022</td>\n",
       "      <td>Isabely JOanes 738</td>\n",
       "      <td>R$ 825,31</td>\n",
       "    </tr>\n",
       "    <tr>\n",
       "      <th>5</th>\n",
       "      <td>07/06/2022</td>\n",
       "      <td>Isabely JOanes 738</td>\n",
       "      <td>R$ 168,07</td>\n",
       "    </tr>\n",
       "    <tr>\n",
       "      <th>6</th>\n",
       "      <td>07/06/2022</td>\n",
       "      <td>Isabely JOanes 738</td>\n",
       "      <td>R$ 339,18</td>\n",
       "    </tr>\n",
       "    <tr>\n",
       "      <th>7</th>\n",
       "      <td>07/06/2022</td>\n",
       "      <td>Isabely JOanes 738</td>\n",
       "      <td>R$ 314,69</td>\n",
       "    </tr>\n",
       "    <tr>\n",
       "      <th>8</th>\n",
       "      <td>08/06/2022</td>\n",
       "      <td>Isabely JOanes 738</td>\n",
       "      <td>R$ 682,05</td>\n",
       "    </tr>\n",
       "    <tr>\n",
       "      <th>9</th>\n",
       "      <td>08/06/2022</td>\n",
       "      <td>JOãO Gabriel 671</td>\n",
       "      <td>R$ 386,34</td>\n",
       "    </tr>\n",
       "    <tr>\n",
       "      <th>10</th>\n",
       "      <td>08/06/2022</td>\n",
       "      <td>Julya meireles 914</td>\n",
       "      <td>R$ 622,65</td>\n",
       "    </tr>\n",
       "    <tr>\n",
       "      <th>11</th>\n",
       "      <td>08/06/2022</td>\n",
       "      <td>Julya meireles 914</td>\n",
       "      <td>R$ 630,79</td>\n",
       "    </tr>\n",
       "    <tr>\n",
       "      <th>12</th>\n",
       "      <td>09/06/2022</td>\n",
       "      <td>Julya meireles 914</td>\n",
       "      <td>R$ 390,3</td>\n",
       "    </tr>\n",
       "    <tr>\n",
       "      <th>13</th>\n",
       "      <td>09/06/2022</td>\n",
       "      <td>MaRIA Julia 444</td>\n",
       "      <td>R$ 759,16</td>\n",
       "    </tr>\n",
       "    <tr>\n",
       "      <th>14</th>\n",
       "      <td>09/06/2022</td>\n",
       "      <td>MaRIA Julia 444</td>\n",
       "      <td>R$ 334,47</td>\n",
       "    </tr>\n",
       "    <tr>\n",
       "      <th>15</th>\n",
       "      <td>09/06/2022</td>\n",
       "      <td>MaRIA Julia 444</td>\n",
       "      <td>R$ 678,78</td>\n",
       "    </tr>\n",
       "    <tr>\n",
       "      <th>16</th>\n",
       "      <td>10/06/2022</td>\n",
       "      <td>MaRIA Julia 444</td>\n",
       "      <td>R$ 314,24</td>\n",
       "    </tr>\n",
       "    <tr>\n",
       "      <th>17</th>\n",
       "      <td>10/06/2022</td>\n",
       "      <td>PEDRO PASCO 812</td>\n",
       "      <td>R$ 311,15</td>\n",
       "    </tr>\n",
       "    <tr>\n",
       "      <th>18</th>\n",
       "      <td>10/06/2022</td>\n",
       "      <td>Paulo castro 481</td>\n",
       "      <td>R$ 899,16</td>\n",
       "    </tr>\n",
       "    <tr>\n",
       "      <th>19</th>\n",
       "      <td>10/06/2022</td>\n",
       "      <td>Thiago fritzz 883</td>\n",
       "      <td>R$ 885,24</td>\n",
       "    </tr>\n",
       "  </tbody>\n",
       "</table>\n",
       "</div>"
      ],
      "text/plain": [
       "   Data de venda             Cliente Valor da compra\n",
       "0     06/06/2022     @ANA _LUCIA 321        R$ 836,5\n",
       "1     06/06/2022  DieGO ARMANDIU 210       R$ 573,33\n",
       "2     06/06/2022  DieGO ARMANDIU 210        R$ 392,8\n",
       "3     06/06/2022  DieGO ARMANDIU 210       R$ 512,34\n",
       "4     07/06/2022  Isabely JOanes 738       R$ 825,31\n",
       "5     07/06/2022  Isabely JOanes 738       R$ 168,07\n",
       "6     07/06/2022  Isabely JOanes 738       R$ 339,18\n",
       "7     07/06/2022  Isabely JOanes 738       R$ 314,69\n",
       "8     08/06/2022  Isabely JOanes 738       R$ 682,05\n",
       "9     08/06/2022    JOãO Gabriel 671       R$ 386,34\n",
       "10    08/06/2022  Julya meireles 914       R$ 622,65\n",
       "11    08/06/2022  Julya meireles 914       R$ 630,79\n",
       "12    09/06/2022  Julya meireles 914        R$ 390,3\n",
       "13    09/06/2022     MaRIA Julia 444       R$ 759,16\n",
       "14    09/06/2022     MaRIA Julia 444       R$ 334,47\n",
       "15    09/06/2022     MaRIA Julia 444       R$ 678,78\n",
       "16    10/06/2022     MaRIA Julia 444       R$ 314,24\n",
       "17    10/06/2022     PEDRO PASCO 812       R$ 311,15\n",
       "18    10/06/2022    Paulo castro 481       R$ 899,16\n",
       "19    10/06/2022   Thiago fritzz 883       R$ 885,24"
      ]
     },
     "execution_count": 42,
     "metadata": {},
     "output_type": "execute_result"
    }
   ],
   "source": [
    "df1_exploded = df1.explode(['Cliente','Valor da compra']).reset_index(drop=True)\n",
    "df1_exploded"
   ]
  },
  {
   "cell_type": "markdown",
   "id": "9b19f2c6-8434-4843-a1da-ff580e5ccb72",
   "metadata": {
    "jupyter": {
     "source_hidden": true
    }
   },
   "source": [
    "Projeto desafio 2: administração de condomínios\n",
    "A administração de condomínios é uma tarefa que requer muita atenção e organização. Entre as diversas responsabilidades da gestão está o recebimento dos aluguéis dos locatários. Para garantir uma boa saúde financeira do empreendimento, é fundamental que esses pagamentos sejam feitos de forma regular e pontual. No entanto, sabemos que nem sempre isso acontece.\n",
    "\n",
    "Pensando nisso, proponho um desafio de tratamento de dados com o objetivo de analisar o atraso no pagamento de aluguéis no condomínio de alguns moradores. Disponibilizo a base de dados dados_locacao_imoveis.json, que contém informações sobre o apartamento dos locatários, o dia acordado para o pagamento do aluguel, o dia da efetivação do pagamento de aluguel e o valor do aluguel.\n",
    "\n",
    "Com essas informações, o desafio do projeto 2: administração de condomínios será similar ao desafio do projeto 1, abrir a base de dados com Pandas e aplicar o json_normalize no DataFrame."
   ]
  },
  {
   "cell_type": "code",
   "execution_count": null,
   "id": "3162637e-e3df-4f73-b48e-8ef92fed87d3",
   "metadata": {},
   "outputs": [],
   "source": []
  }
 ],
 "metadata": {
  "kernelspec": {
   "display_name": "Python 3 (ipykernel)",
   "language": "python",
   "name": "python3"
  },
  "language_info": {
   "codemirror_mode": {
    "name": "ipython",
    "version": 3
   },
   "file_extension": ".py",
   "mimetype": "text/x-python",
   "name": "python",
   "nbconvert_exporter": "python",
   "pygments_lexer": "ipython3",
   "version": "3.13.2"
  }
 },
 "nbformat": 4,
 "nbformat_minor": 5
}
