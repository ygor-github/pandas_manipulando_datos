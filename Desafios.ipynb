{
 "cells": [
  {
   "cell_type": "markdown",
   "id": "fe2d41c0-63db-4eb5-bae7-8e00737ba523",
   "metadata": {},
   "source": [
    "Chegou a hora de pôr em prática tudo o que aprendemos durante as aulas. Preparei dois projetos extras para desenvolvermos durante o curso, para garantir que possamos praticar bastante! Para isso, vamos trabalhar com 2 novos conjuntos de dados, mas que dessa vez serão bem menores. As bases de dados estão disponíveis para download abaixo:\n",
    "\n",
    ">Projeto desafio 1: vendas online - dados_vendas_clientes.json; "
   ]
  },
  {
   "cell_type": "code",
   "execution_count": null,
   "id": "899439c2-d42a-47ff-854c-fa2d3ca1bdad",
   "metadata": {},
   "outputs": [],
   "source": []
  }
 ],
 "metadata": {
  "kernelspec": {
   "display_name": "Python 3 (ipykernel)",
   "language": "python",
   "name": "python3"
  },
  "language_info": {
   "codemirror_mode": {
    "name": "ipython",
    "version": 3
   },
   "file_extension": ".py",
   "mimetype": "text/x-python",
   "name": "python",
   "nbconvert_exporter": "python",
   "pygments_lexer": "ipython3",
   "version": "3.13.3"
  }
 },
 "nbformat": 4,
 "nbformat_minor": 5
}
