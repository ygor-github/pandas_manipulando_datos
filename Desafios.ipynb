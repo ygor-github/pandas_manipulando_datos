{
 "cells": [
  {
   "cell_type": "markdown",
   "id": "fe2d41c0-63db-4eb5-bae7-8e00737ba523",
   "metadata": {},
   "source": [
    "Chegou a hora de pôr em prática tudo o que aprendemos durante as aulas. Preparei dois projetos extras para desenvolvermos durante o curso, para garantir que possamos praticar bastante! Para isso, vamos trabalhar com 2 novos conjuntos de dados, mas que dessa vez serão bem menores. As bases de dados estão disponíveis para download abaixo:\n",
    "\n",
    ">Projeto desafio 1: vendas online - dados_vendas_clientes.json; "
   ]
  },
  {
   "cell_type": "code",
   "execution_count": 1,
   "id": "899439c2-d42a-47ff-854c-fa2d3ca1bdad",
   "metadata": {},
   "outputs": [],
   "source": [
    "url1 = 'https://cdn3.gnarususercontent.com.br/2928-transformacao-manipulacao-dados/dados_vendas_clientes.json'"
   ]
  },
  {
   "cell_type": "markdown",
   "id": "380e5072-2d19-4b59-9098-98602ebfcc43",
   "metadata": {},
   "source": [
    ">Projeto desafio 2: administração de condomínios - dados_locacao_imoveis.json."
   ]
  },
  {
   "cell_type": "code",
   "execution_count": 3,
   "id": "047a6558-bdde-402e-b9b1-bd2013244ae9",
   "metadata": {},
   "outputs": [],
   "source": [
    "url2 = 'https://cdn3.gnarususercontent.com.br/2928-transformacao-manipulacao-dados/dados_locacao_imoveis.json'"
   ]
  },
  {
   "cell_type": "markdown",
   "id": "f8f4e75f-e72f-4d6b-9843-33a1d6433854",
   "metadata": {},
   "source": [
    "Em cada aula, desenvolveremos uma etapa dos projetos. Portanto, salve seu código de construção em cada desafio para que possa aplicá-lo nos desafios posteriores.\n",
    "\n",
    "Etapa 1\n",
    "Projeto desafio 1: vendas online\n",
    "O objetivo desse projeto é realizar uma análise dos resultados de um evento com os clientes de uma empresa de vendas online. Foi coletado um conjunto de dados que contém os clientes que mais gastaram com produtos dentro de 5 dias de vendas, que é o período de duração do evento. Essa análise vai identificar o cliente com a maior compra na semana, que irá receber um prêmio da loja, e posteriormente, ela pode ajudar a empresa a criar novas estratégias para atrair mais clientes.\n",
    "\n",
    "A base de dados utilizada nessa análise é a dados_vendas_clientes.json e contém informações importantes sobre os clientes como, o nome de cadastro do cliente, o valor total pago na compra e o dia da compra.\n",
    "\n",
    "Sabendo essas informações, o desafio do projeto 1: vendas online será abrir a base de dados com Pandas e aplicar o json_normalize."
   ]
  },
  {
   "cell_type": "markdown",
   "id": "9b19f2c6-8434-4843-a1da-ff580e5ccb72",
   "metadata": {},
   "source": [
    "Projeto desafio 2: administração de condomínios\n",
    "A administração de condomínios é uma tarefa que requer muita atenção e organização. Entre as diversas responsabilidades da gestão está o recebimento dos aluguéis dos locatários. Para garantir uma boa saúde financeira do empreendimento, é fundamental que esses pagamentos sejam feitos de forma regular e pontual. No entanto, sabemos que nem sempre isso acontece.\n",
    "\n",
    "Pensando nisso, proponho um desafio de tratamento de dados com o objetivo de analisar o atraso no pagamento de aluguéis no condomínio de alguns moradores. Disponibilizo a base de dados dados_locacao_imoveis.json, que contém informações sobre o apartamento dos locatários, o dia acordado para o pagamento do aluguel, o dia da efetivação do pagamento de aluguel e o valor do aluguel.\n",
    "\n",
    "Com essas informações, o desafio do projeto 2: administração de condomínios será similar ao desafio do projeto 1, abrir a base de dados com Pandas e aplicar o json_normalize no DataFrame."
   ]
  },
  {
   "cell_type": "code",
   "execution_count": null,
   "id": "3162637e-e3df-4f73-b48e-8ef92fed87d3",
   "metadata": {},
   "outputs": [],
   "source": []
  }
 ],
 "metadata": {
  "kernelspec": {
   "display_name": "Python 3 (ipykernel)",
   "language": "python",
   "name": "python3"
  },
  "language_info": {
   "codemirror_mode": {
    "name": "ipython",
    "version": 3
   },
   "file_extension": ".py",
   "mimetype": "text/x-python",
   "name": "python",
   "nbconvert_exporter": "python",
   "pygments_lexer": "ipython3",
   "version": "3.13.2"
  }
 },
 "nbformat": 4,
 "nbformat_minor": 5
}
