{
 "cells": [
  {
   "cell_type": "markdown",
   "id": "30df465e-15cf-4cb0-a3e2-27c90462bb1b",
   "metadata": {},
   "source": [
    ">Projeto desafio 2: administração de condomínios - dados_locacao_imoveis.json."
   ]
  },
  {
   "cell_type": "code",
   "execution_count": 1,
   "id": "9444d039-e853-4a5e-addd-f14866b4954a",
   "metadata": {},
   "outputs": [],
   "source": [
    "url2 = 'https://cdn3.gnarususercontent.com.br/2928-transformacao-manipulacao-dados/dados_locacao_imoveis.json'"
   ]
  },
  {
   "cell_type": "markdown",
   "id": "a30093f0-1571-493e-a8e0-8a0e4d2a0ced",
   "metadata": {},
   "source": [
    "Projeto desafio 2: administração de condomínios\n",
    "A administração de condomínios é uma tarefa que requer muita atenção e organização. Entre as diversas responsabilidades da gestão está o recebimento dos aluguéis dos locatários. Para garantir uma boa saúde financeira do empreendimento, é fundamental que esses pagamentos sejam feitos de forma regular e pontual. No entanto, sabemos que nem sempre isso acontece.\n",
    "\n",
    "Pensando nisso, proponho um desafio de tratamento de dados com o objetivo de analisar o atraso no pagamento de aluguéis no condomínio de alguns moradores. Disponibilizo a base de dados dados_locacao_imoveis.json, que contém informações sobre o apartamento dos locatários, o dia acordado para o pagamento do aluguel, o dia da efetivação do pagamento de aluguel e o valor do aluguel.\n",
    "\n",
    "Com essas informações, o desafio do projeto 2: administração de condomínios será similar ao desafio do projeto 1, abrir a base de dados com Pandas e aplicar o json_normalize no DataFrame."
   ]
  },
  {
   "cell_type": "code",
   "execution_count": 2,
   "id": "c716ef87-c0c2-43c5-9855-3c74b1335c5e",
   "metadata": {},
   "outputs": [],
   "source": [
    "import requests\n",
    "import pandas as pd"
   ]
  },
  {
   "cell_type": "code",
   "execution_count": 3,
   "id": "e2676b21-e207-4ad6-8dcd-6589432877c3",
   "metadata": {},
   "outputs": [
    {
     "data": {
      "text/plain": [
       "200"
      ]
     },
     "execution_count": 3,
     "metadata": {},
     "output_type": "execute_result"
    }
   ],
   "source": [
    "locacao_json = requests.get(url2)\n",
    "locacao_json.status_code"
   ]
  },
  {
   "cell_type": "code",
   "execution_count": 8,
   "id": "cfdfa2c0-a337-4d9c-acfd-e4181566389e",
   "metadata": {},
   "outputs": [
    {
     "ename": "TypeError",
     "evalue": "'Response' object is not subscriptable",
     "output_type": "error",
     "traceback": [
      "\u001b[31m---------------------------------------------------------------------------\u001b[39m",
      "\u001b[31mTypeError\u001b[39m                                 Traceback (most recent call last)",
      "\u001b[36mCell\u001b[39m\u001b[36m \u001b[39m\u001b[32mIn[8]\u001b[39m\u001b[32m, line 1\u001b[39m\n\u001b[32m----> \u001b[39m\u001b[32m1\u001b[39m locacao = pd.json_normalize(\u001b[43mlocacao_json\u001b[49m\u001b[43m[\u001b[49m\u001b[33;43m'\u001b[39;49m\u001b[33;43mdatos_locacao\u001b[39;49m\u001b[33;43m'\u001b[39;49m\u001b[43m]\u001b[49m)\n\u001b[32m      2\u001b[39m \u001b[38;5;66;03m#locacao_json = locacao_json.json()\u001b[39;00m\n\u001b[32m      3\u001b[39m \u001b[38;5;28mtype\u001b[39m(locacao_json)\n",
      "\u001b[31mTypeError\u001b[39m: 'Response' object is not subscriptable"
     ]
    }
   ],
   "source": [
    "locacao = pd.json_normalize(locacao_json['datos_locacao'])\n",
    "#locacao_json = locacao_json.json()\n",
    "type(locacao_json)\n",
    "locacao   \n"
   ]
  },
  {
   "cell_type": "code",
   "execution_count": null,
   "id": "f1c6f7dc-643c-4b6d-af2e-33e728ca7ea2",
   "metadata": {},
   "outputs": [],
   "source": [
    "print(locacao_json.keys())\n",
    "print(locacao_json.items())"
   ]
  },
  {
   "cell_type": "code",
   "execution_count": null,
   "id": "db5a1456-fe56-4b1b-995e-41b387fcf15c",
   "metadata": {},
   "outputs": [],
   "source": [
    "locacao = pd.json_normalize(locacao_json['dados_locacao'])\n",
    "locacao.head(2)"
   ]
  },
  {
   "cell_type": "code",
   "execution_count": null,
   "id": "0b204e30-53ff-4c04-9902-94444f110e80",
   "metadata": {},
   "outputs": [],
   "source": [
    "locacao_exploded = locacao.explode(['datas_combinadas_pagamento', 'datas_de_pagamento','valor_aluguel']).reset_index(drop=True)\n",
    "locacao_exploded"
   ]
  },
  {
   "cell_type": "code",
   "execution_count": null,
   "id": "fe497a24-c7e9-4fa6-a0f8-e0bbe655f19e",
   "metadata": {},
   "outputs": [],
   "source": [
    "\n",
    "\n",
    "\n",
    "\n",
    "\n",
    "\n",
    "\n",
    "\n",
    "\n",
    "\n"
   ]
  }
 ],
 "metadata": {
  "kernelspec": {
   "display_name": "Python (mi_entorno)",
   "language": "python",
   "name": "mi_entorno"
  },
  "language_info": {
   "codemirror_mode": {
    "name": "ipython",
    "version": 3
   },
   "file_extension": ".py",
   "mimetype": "text/x-python",
   "name": "python",
   "nbconvert_exporter": "python",
   "pygments_lexer": "ipython3",
   "version": "3.13.2"
  }
 },
 "nbformat": 4,
 "nbformat_minor": 5
}
