{
 "cells": [
  {
   "cell_type": "code",
   "execution_count": 1,
   "id": "d84d119f-d504-4c32-8154-7f7a191c69db",
   "metadata": {},
   "outputs": [
    {
     "name": "stdout",
     "output_type": "stream",
     "text": [
      "/home/ygor/miniconda3/envs/pandas_manipulando_datos/bin/python\n"
     ]
    }
   ],
   "source": [
    "# Primero verificamos que se esta ejecutando el ambiente virtual para el proyecto\n",
    "!which python"
   ]
  },
  {
   "cell_type": "code",
   "execution_count": 2,
   "id": "594de731-6a9e-4879-bde1-ab72e52bf648",
   "metadata": {},
   "outputs": [],
   "source": [
    "# Importamos la precipales bibliotecas que estaremos usando.\n",
    "# En caso no esté instaladas, las instalaremos en nuestro ambiente de proyecto\n",
    "import requests\n",
    "import pandas as pd"
   ]
  },
  {
   "cell_type": "code",
   "execution_count": 3,
   "id": "075b451b-26b3-4671-b22b-64835cdc4da7",
   "metadata": {},
   "outputs": [],
   "source": [
    "# Cargamos las url de donde se tomarán los datos\n",
    "url_datos_hospedaje = 'https://cdn3.gnarususercontent.com.br/2928-transformacao-manipulacao-dados/dados_hospedagem.json'\n",
    "url_datos_inmuebles_disponibles = 'https://cdn3.gnarususercontent.com.br/2928-transformacao-manipulacao-dados/moveis_disponiveis.json'"
   ]
  },
  {
   "cell_type": "code",
   "execution_count": 4,
   "id": "648bbc6f-9014-45ca-b74d-26ef503a1f73",
   "metadata": {},
   "outputs": [],
   "source": [
    "# Haemos la solicitud para obtener los datos.\n",
    "datos_hospedaje = requests.get(url_datos_hospedaje)\n",
    "datos_inmuebles = requests.get(url_datos_inmuebles_disponibles)"
   ]
  },
  {
   "cell_type": "code",
   "execution_count": 5,
   "id": "2edf1baf-d4d4-4d51-b570-a77c5b4c118e",
   "metadata": {},
   "outputs": [
    {
     "name": "stdout",
     "output_type": "stream",
     "text": [
      "200\n",
      "200\n"
     ]
    }
   ],
   "source": [
    "# Verificamos que la solicitud se ejecuto correctamente. Código 200  \n",
    "print(datos_hospedaje.status_code)\n",
    "print(datos_inmuebles.status_code)"
   ]
  },
  {
   "cell_type": "code",
   "execution_count": 6,
   "id": "95756189-52e6-4e44-83b0-8db1a62faa6f",
   "metadata": {},
   "outputs": [
    {
     "name": "stdout",
     "output_type": "stream",
     "text": [
      "<class 'dict'>\n",
      "<class 'dict'>\n"
     ]
    }
   ],
   "source": [
    "# Pasamos los requests a json\n",
    "datos_hospedaje = datos_hospedaje.json()\n",
    "datos_inmuebles = datos_inmuebles.json()\n",
    "# Verificamos que tipos de datos tenemos en los archivos\n",
    "print(type(datos_hospedaje))\n",
    "print(type(datos_inmuebles))"
   ]
  },
  {
   "cell_type": "code",
   "execution_count": 7,
   "id": "aa69d86f-eec5-468a-8a05-bfd909ccd03d",
   "metadata": {},
   "outputs": [
    {
     "name": "stdout",
     "output_type": "stream",
     "text": [
      "dict_keys(['info_moveis'])\n",
      "dict_keys(['id', 'data', 'vaga_disponivel', 'preco'])\n"
     ]
    }
   ],
   "source": [
    "# Sabiendo que tenemos diccionarios visualizamos sus llaves \n",
    "print(datos_hospedaje.keys())\n",
    "print(datos_inmuebles.keys())"
   ]
  },
  {
   "cell_type": "code",
   "execution_count": 8,
   "id": "11462309-6bcd-41ef-8466-d30da36051a5",
   "metadata": {},
   "outputs": [
    {
     "name": "stdout",
     "output_type": "stream",
     "text": [
      "<class 'list'>\n"
     ]
    }
   ],
   "source": [
    "# Verificamos que tipos de datos estan almacenaod en la llave\n",
    "print(type(datos_hospedaje['info_moveis']))\n"
   ]
  },
  {
   "cell_type": "code",
   "execution_count": 9,
   "id": "087339d7-d92e-467f-ab70-48301c76ac70",
   "metadata": {},
   "outputs": [
    {
     "data": {
      "text/html": [
       "<div>\n",
       "<style scoped>\n",
       "    .dataframe tbody tr th:only-of-type {\n",
       "        vertical-align: middle;\n",
       "    }\n",
       "\n",
       "    .dataframe tbody tr th {\n",
       "        vertical-align: top;\n",
       "    }\n",
       "\n",
       "    .dataframe thead th {\n",
       "        text-align: right;\n",
       "    }\n",
       "</style>\n",
       "<table border=\"1\" class=\"dataframe\">\n",
       "  <thead>\n",
       "    <tr style=\"text-align: right;\">\n",
       "      <th></th>\n",
       "      <th>avaliacao_geral</th>\n",
       "      <th>experiencia_local</th>\n",
       "      <th>max_hospedes</th>\n",
       "      <th>descricao_local</th>\n",
       "      <th>descricao_vizinhanca</th>\n",
       "      <th>quantidade_banheiros</th>\n",
       "      <th>quantidade_quartos</th>\n",
       "      <th>quantidade_camas</th>\n",
       "      <th>modelo_cama</th>\n",
       "      <th>comodidades</th>\n",
       "      <th>taxa_deposito</th>\n",
       "      <th>taxa_limpeza</th>\n",
       "      <th>preco</th>\n",
       "    </tr>\n",
       "  </thead>\n",
       "  <tbody>\n",
       "    <tr>\n",
       "      <th>0</th>\n",
       "      <td>10.0</td>\n",
       "      <td>--</td>\n",
       "      <td>1</td>\n",
       "      <td>[This clean and comfortable one bedroom sits r...</td>\n",
       "      <td>[Lower Queen Anne is near the Seattle Center (...</td>\n",
       "      <td>[1, 1, 1, 1, 1, 1, 1, 1, 1, 1, 1, 1, 1, 1, 1, ...</td>\n",
       "      <td>[1, 1, 1, 1, 1, 1, 1, 1, 1, 1, 1, 1, 1, 1, 1, ...</td>\n",
       "      <td>[1, 1, 1, 1, 1, 1, 1, 1, 1, 1, 1, 1, 1, 1, 1, ...</td>\n",
       "      <td>[Real Bed, Futon, Futon, Pull-out Sofa, Real B...</td>\n",
       "      <td>[{Internet,\"Wireless Internet\",Kitchen,\"Free P...</td>\n",
       "      <td>[$0, $0, $0, $0, $0, $350.00, $350.00, $350.00...</td>\n",
       "      <td>[$0, $0, $0, $20.00, $15.00, $28.00, $35.00, $...</td>\n",
       "      <td>[$110.00, $45.00, $55.00, $52.00, $85.00, $50....</td>\n",
       "    </tr>\n",
       "    <tr>\n",
       "      <th>1</th>\n",
       "      <td>10.0</td>\n",
       "      <td>--</td>\n",
       "      <td>10</td>\n",
       "      <td>[Welcome to the heart of the 'Ballard Brewery ...</td>\n",
       "      <td>[--, Capital Hill is the heart of Seattle, bor...</td>\n",
       "      <td>[2, 3, 2, 3, 3, 3, 2, 1, 2, 2, 2]</td>\n",
       "      <td>[3, 4, 2, 3, 3, 3, 3, 3, 3, 4, 3]</td>\n",
       "      <td>[5, 6, 8, 3, 3, 5, 4, 5, 6, 7, 4]</td>\n",
       "      <td>[Real Bed, Real Bed, Real Bed, Real Bed, Real ...</td>\n",
       "      <td>[{TV,Internet,\"Wireless Internet\",Kitchen,\"Fre...</td>\n",
       "      <td>[$500.00, $300.00, $0, $300.00, $300.00, $360....</td>\n",
       "      <td>[$125.00, $100.00, $85.00, $110.00, $110.00, $...</td>\n",
       "      <td>[$350.00, $300.00, $425.00, $300.00, $285.00, ...</td>\n",
       "    </tr>\n",
       "  </tbody>\n",
       "</table>\n",
       "</div>"
      ],
      "text/plain": [
       "  avaliacao_geral experiencia_local max_hospedes  \\\n",
       "0            10.0                --            1   \n",
       "1            10.0                --           10   \n",
       "\n",
       "                                     descricao_local  \\\n",
       "0  [This clean and comfortable one bedroom sits r...   \n",
       "1  [Welcome to the heart of the 'Ballard Brewery ...   \n",
       "\n",
       "                                descricao_vizinhanca  \\\n",
       "0  [Lower Queen Anne is near the Seattle Center (...   \n",
       "1  [--, Capital Hill is the heart of Seattle, bor...   \n",
       "\n",
       "                                quantidade_banheiros  \\\n",
       "0  [1, 1, 1, 1, 1, 1, 1, 1, 1, 1, 1, 1, 1, 1, 1, ...   \n",
       "1                  [2, 3, 2, 3, 3, 3, 2, 1, 2, 2, 2]   \n",
       "\n",
       "                                  quantidade_quartos  \\\n",
       "0  [1, 1, 1, 1, 1, 1, 1, 1, 1, 1, 1, 1, 1, 1, 1, ...   \n",
       "1                  [3, 4, 2, 3, 3, 3, 3, 3, 3, 4, 3]   \n",
       "\n",
       "                                    quantidade_camas  \\\n",
       "0  [1, 1, 1, 1, 1, 1, 1, 1, 1, 1, 1, 1, 1, 1, 1, ...   \n",
       "1                  [5, 6, 8, 3, 3, 5, 4, 5, 6, 7, 4]   \n",
       "\n",
       "                                         modelo_cama  \\\n",
       "0  [Real Bed, Futon, Futon, Pull-out Sofa, Real B...   \n",
       "1  [Real Bed, Real Bed, Real Bed, Real Bed, Real ...   \n",
       "\n",
       "                                         comodidades  \\\n",
       "0  [{Internet,\"Wireless Internet\",Kitchen,\"Free P...   \n",
       "1  [{TV,Internet,\"Wireless Internet\",Kitchen,\"Fre...   \n",
       "\n",
       "                                       taxa_deposito  \\\n",
       "0  [$0, $0, $0, $0, $0, $350.00, $350.00, $350.00...   \n",
       "1  [$500.00, $300.00, $0, $300.00, $300.00, $360....   \n",
       "\n",
       "                                        taxa_limpeza  \\\n",
       "0  [$0, $0, $0, $20.00, $15.00, $28.00, $35.00, $...   \n",
       "1  [$125.00, $100.00, $85.00, $110.00, $110.00, $...   \n",
       "\n",
       "                                               preco  \n",
       "0  [$110.00, $45.00, $55.00, $52.00, $85.00, $50....  \n",
       "1  [$350.00, $300.00, $425.00, $300.00, $285.00, ...  "
      ]
     },
     "execution_count": 9,
     "metadata": {},
     "output_type": "execute_result"
    }
   ],
   "source": [
    "# En ese caso podemos pasar la lista a un DataFrame\n",
    "info_moveis = pd.DataFrame(datos_hospedaje['info_moveis'])\n",
    "info_moveis.head(2)"
   ]
  },
  {
   "cell_type": "code",
   "execution_count": 10,
   "id": "e2b8a0d3-54af-4f58-b578-806775c501a3",
   "metadata": {},
   "outputs": [
    {
     "data": {
      "text/plain": [
       "['avaliacao_geral',\n",
       " 'experiencia_local',\n",
       " 'max_hospedes',\n",
       " 'descricao_local',\n",
       " 'descricao_vizinhanca',\n",
       " 'quantidade_banheiros',\n",
       " 'quantidade_quartos',\n",
       " 'quantidade_camas',\n",
       " 'modelo_cama',\n",
       " 'comodidades',\n",
       " 'taxa_deposito',\n",
       " 'taxa_limpeza',\n",
       " 'preco']"
      ]
     },
     "execution_count": 10,
     "metadata": {},
     "output_type": "execute_result"
    }
   ],
   "source": [
    "# Al visualizar vemos que temos información anidada desde la columna descipcion local en adelante.\n",
    "# Crearemos un lista con los nombres de las columnas\n",
    "info_moveis_columnas = list(info_moveis.columns)\n",
    "info_moveis_columnas\n"
   ]
  },
  {
   "cell_type": "code",
   "execution_count": 11,
   "id": "52084345-da48-4366-a999-5f585f409a1a",
   "metadata": {},
   "outputs": [
    {
     "data": {
      "text/html": [
       "<div>\n",
       "<style scoped>\n",
       "    .dataframe tbody tr th:only-of-type {\n",
       "        vertical-align: middle;\n",
       "    }\n",
       "\n",
       "    .dataframe tbody tr th {\n",
       "        vertical-align: top;\n",
       "    }\n",
       "\n",
       "    .dataframe thead th {\n",
       "        text-align: right;\n",
       "    }\n",
       "</style>\n",
       "<table border=\"1\" class=\"dataframe\">\n",
       "  <thead>\n",
       "    <tr style=\"text-align: right;\">\n",
       "      <th></th>\n",
       "      <th>avaliacao_geral</th>\n",
       "      <th>experiencia_local</th>\n",
       "      <th>max_hospedes</th>\n",
       "      <th>descricao_local</th>\n",
       "      <th>descricao_vizinhanca</th>\n",
       "      <th>quantidade_banheiros</th>\n",
       "      <th>quantidade_quartos</th>\n",
       "      <th>quantidade_camas</th>\n",
       "      <th>modelo_cama</th>\n",
       "      <th>comodidades</th>\n",
       "      <th>taxa_deposito</th>\n",
       "      <th>taxa_limpeza</th>\n",
       "      <th>preco</th>\n",
       "    </tr>\n",
       "  </thead>\n",
       "  <tbody>\n",
       "    <tr>\n",
       "      <th>0</th>\n",
       "      <td>10.0</td>\n",
       "      <td>--</td>\n",
       "      <td>1</td>\n",
       "      <td>This clean and comfortable one bedroom sits ri...</td>\n",
       "      <td>Lower Queen Anne is near the Seattle Center (s...</td>\n",
       "      <td>1</td>\n",
       "      <td>1</td>\n",
       "      <td>1</td>\n",
       "      <td>Real Bed</td>\n",
       "      <td>{Internet,\"Wireless Internet\",Kitchen,\"Free Pa...</td>\n",
       "      <td>$0</td>\n",
       "      <td>$0</td>\n",
       "      <td>$110.00</td>\n",
       "    </tr>\n",
       "    <tr>\n",
       "      <th>0</th>\n",
       "      <td>10.0</td>\n",
       "      <td>--</td>\n",
       "      <td>1</td>\n",
       "      <td>Our century old Upper Queen Anne house is loca...</td>\n",
       "      <td>Upper Queen Anne is a really pleasant, unique ...</td>\n",
       "      <td>1</td>\n",
       "      <td>1</td>\n",
       "      <td>1</td>\n",
       "      <td>Futon</td>\n",
       "      <td>{TV,Internet,\"Wireless Internet\",Kitchen,\"Free...</td>\n",
       "      <td>$0</td>\n",
       "      <td>$0</td>\n",
       "      <td>$45.00</td>\n",
       "    </tr>\n",
       "    <tr>\n",
       "      <th>0</th>\n",
       "      <td>10.0</td>\n",
       "      <td>--</td>\n",
       "      <td>1</td>\n",
       "      <td>Cozy room in two-bedroom apartment along the l...</td>\n",
       "      <td>The convenience of being in Seattle but on the...</td>\n",
       "      <td>1</td>\n",
       "      <td>1</td>\n",
       "      <td>1</td>\n",
       "      <td>Futon</td>\n",
       "      <td>{TV,Internet,\"Wireless Internet\",Kitchen,\"Free...</td>\n",
       "      <td>$0</td>\n",
       "      <td>$0</td>\n",
       "      <td>$55.00</td>\n",
       "    </tr>\n",
       "  </tbody>\n",
       "</table>\n",
       "</div>"
      ],
      "text/plain": [
       "  avaliacao_geral experiencia_local max_hospedes  \\\n",
       "0            10.0                --            1   \n",
       "0            10.0                --            1   \n",
       "0            10.0                --            1   \n",
       "\n",
       "                                     descricao_local  \\\n",
       "0  This clean and comfortable one bedroom sits ri...   \n",
       "0  Our century old Upper Queen Anne house is loca...   \n",
       "0  Cozy room in two-bedroom apartment along the l...   \n",
       "\n",
       "                                descricao_vizinhanca quantidade_banheiros  \\\n",
       "0  Lower Queen Anne is near the Seattle Center (s...                    1   \n",
       "0  Upper Queen Anne is a really pleasant, unique ...                    1   \n",
       "0  The convenience of being in Seattle but on the...                    1   \n",
       "\n",
       "  quantidade_quartos quantidade_camas modelo_cama  \\\n",
       "0                  1                1    Real Bed   \n",
       "0                  1                1       Futon   \n",
       "0                  1                1       Futon   \n",
       "\n",
       "                                         comodidades taxa_deposito  \\\n",
       "0  {Internet,\"Wireless Internet\",Kitchen,\"Free Pa...            $0   \n",
       "0  {TV,Internet,\"Wireless Internet\",Kitchen,\"Free...            $0   \n",
       "0  {TV,Internet,\"Wireless Internet\",Kitchen,\"Free...            $0   \n",
       "\n",
       "  taxa_limpeza    preco  \n",
       "0           $0  $110.00  \n",
       "0           $0   $45.00  \n",
       "0           $0   $55.00  "
      ]
     },
     "execution_count": 11,
     "metadata": {},
     "output_type": "execute_result"
    }
   ],
   "source": [
    "# Ahora que tenemos el nombre de las columas, vamos usar la función explode\n",
    "# Para convertir esos datos anidados en lineas.\n",
    "info_moveis_exploded = info_moveis.explode(info_moveis_columnas[3:])\n",
    "info_moveis_exploded.head(3)\n"
   ]
  },
  {
   "cell_type": "code",
   "execution_count": 12,
   "id": "66527faf-d048-47fd-aead-4c59e85f4b97",
   "metadata": {},
   "outputs": [
    {
     "data": {
      "text/html": [
       "<div>\n",
       "<style scoped>\n",
       "    .dataframe tbody tr th:only-of-type {\n",
       "        vertical-align: middle;\n",
       "    }\n",
       "\n",
       "    .dataframe tbody tr th {\n",
       "        vertical-align: top;\n",
       "    }\n",
       "\n",
       "    .dataframe thead th {\n",
       "        text-align: right;\n",
       "    }\n",
       "</style>\n",
       "<table border=\"1\" class=\"dataframe\">\n",
       "  <thead>\n",
       "    <tr style=\"text-align: right;\">\n",
       "      <th></th>\n",
       "      <th>avaliacao_geral</th>\n",
       "      <th>experiencia_local</th>\n",
       "      <th>max_hospedes</th>\n",
       "      <th>descricao_local</th>\n",
       "      <th>descricao_vizinhanca</th>\n",
       "      <th>quantidade_banheiros</th>\n",
       "      <th>quantidade_quartos</th>\n",
       "      <th>quantidade_camas</th>\n",
       "      <th>modelo_cama</th>\n",
       "      <th>comodidades</th>\n",
       "      <th>taxa_deposito</th>\n",
       "      <th>taxa_limpeza</th>\n",
       "      <th>preco</th>\n",
       "    </tr>\n",
       "  </thead>\n",
       "  <tbody>\n",
       "    <tr>\n",
       "      <th>0</th>\n",
       "      <td>10.0</td>\n",
       "      <td>--</td>\n",
       "      <td>1</td>\n",
       "      <td>This clean and comfortable one bedroom sits ri...</td>\n",
       "      <td>Lower Queen Anne is near the Seattle Center (s...</td>\n",
       "      <td>1</td>\n",
       "      <td>1</td>\n",
       "      <td>1</td>\n",
       "      <td>Real Bed</td>\n",
       "      <td>{Internet,\"Wireless Internet\",Kitchen,\"Free Pa...</td>\n",
       "      <td>$0</td>\n",
       "      <td>$0</td>\n",
       "      <td>$110.00</td>\n",
       "    </tr>\n",
       "    <tr>\n",
       "      <th>1</th>\n",
       "      <td>10.0</td>\n",
       "      <td>--</td>\n",
       "      <td>1</td>\n",
       "      <td>Our century old Upper Queen Anne house is loca...</td>\n",
       "      <td>Upper Queen Anne is a really pleasant, unique ...</td>\n",
       "      <td>1</td>\n",
       "      <td>1</td>\n",
       "      <td>1</td>\n",
       "      <td>Futon</td>\n",
       "      <td>{TV,Internet,\"Wireless Internet\",Kitchen,\"Free...</td>\n",
       "      <td>$0</td>\n",
       "      <td>$0</td>\n",
       "      <td>$45.00</td>\n",
       "    </tr>\n",
       "    <tr>\n",
       "      <th>2</th>\n",
       "      <td>10.0</td>\n",
       "      <td>--</td>\n",
       "      <td>1</td>\n",
       "      <td>Cozy room in two-bedroom apartment along the l...</td>\n",
       "      <td>The convenience of being in Seattle but on the...</td>\n",
       "      <td>1</td>\n",
       "      <td>1</td>\n",
       "      <td>1</td>\n",
       "      <td>Futon</td>\n",
       "      <td>{TV,Internet,\"Wireless Internet\",Kitchen,\"Free...</td>\n",
       "      <td>$0</td>\n",
       "      <td>$0</td>\n",
       "      <td>$55.00</td>\n",
       "    </tr>\n",
       "  </tbody>\n",
       "</table>\n",
       "</div>"
      ],
      "text/plain": [
       "  avaliacao_geral experiencia_local max_hospedes  \\\n",
       "0            10.0                --            1   \n",
       "1            10.0                --            1   \n",
       "2            10.0                --            1   \n",
       "\n",
       "                                     descricao_local  \\\n",
       "0  This clean and comfortable one bedroom sits ri...   \n",
       "1  Our century old Upper Queen Anne house is loca...   \n",
       "2  Cozy room in two-bedroom apartment along the l...   \n",
       "\n",
       "                                descricao_vizinhanca quantidade_banheiros  \\\n",
       "0  Lower Queen Anne is near the Seattle Center (s...                    1   \n",
       "1  Upper Queen Anne is a really pleasant, unique ...                    1   \n",
       "2  The convenience of being in Seattle but on the...                    1   \n",
       "\n",
       "  quantidade_quartos quantidade_camas modelo_cama  \\\n",
       "0                  1                1    Real Bed   \n",
       "1                  1                1       Futon   \n",
       "2                  1                1       Futon   \n",
       "\n",
       "                                         comodidades taxa_deposito  \\\n",
       "0  {Internet,\"Wireless Internet\",Kitchen,\"Free Pa...            $0   \n",
       "1  {TV,Internet,\"Wireless Internet\",Kitchen,\"Free...            $0   \n",
       "2  {TV,Internet,\"Wireless Internet\",Kitchen,\"Free...            $0   \n",
       "\n",
       "  taxa_limpeza    preco  \n",
       "0           $0  $110.00  \n",
       "1           $0   $45.00  \n",
       "2           $0   $55.00  "
      ]
     },
     "execution_count": 12,
     "metadata": {},
     "output_type": "execute_result"
    }
   ],
   "source": [
    "# Con el explide conseguimos formar filas con los datos que estaban anidado.\n",
    "# ahora falta resetear los index. \n",
    "info_moveis_exploded.reset_index(inplace=True, drop=True)\n",
    "info_moveis_exploded.head(3)"
   ]
  },
  {
   "cell_type": "code",
   "execution_count": 13,
   "id": "e1d30273-0231-4692-9375-887108f0938b",
   "metadata": {},
   "outputs": [
    {
     "name": "stdout",
     "output_type": "stream",
     "text": [
      "<class 'pandas.core.frame.DataFrame'>\n",
      "RangeIndex: 3818 entries, 0 to 3817\n",
      "Data columns (total 13 columns):\n",
      " #   Column                Non-Null Count  Dtype \n",
      "---  ------                --------------  ----- \n",
      " 0   avaliacao_geral       3818 non-null   object\n",
      " 1   experiencia_local     3818 non-null   object\n",
      " 2   max_hospedes          3818 non-null   object\n",
      " 3   descricao_local       3818 non-null   object\n",
      " 4   descricao_vizinhanca  3818 non-null   object\n",
      " 5   quantidade_banheiros  3818 non-null   object\n",
      " 6   quantidade_quartos    3818 non-null   object\n",
      " 7   quantidade_camas      3818 non-null   object\n",
      " 8   modelo_cama           3818 non-null   object\n",
      " 9   comodidades           3818 non-null   object\n",
      " 10  taxa_deposito         3818 non-null   object\n",
      " 11  taxa_limpeza          3818 non-null   object\n",
      " 12  preco                 3818 non-null   object\n",
      "dtypes: object(13)\n",
      "memory usage: 387.9+ KB\n"
     ]
    }
   ],
   "source": [
    "# En secuencia vamos a verifica los tipos de datos usando el metodo info()\n",
    "info_moveis_exploded.info()"
   ]
  },
  {
   "cell_type": "markdown",
   "id": "038d6d96-5d04-425d-b93a-542df692278f",
   "metadata": {},
   "source": [
    "En el resultado anterior podemos ver que todos los tipo de datos son \"object\", esto puede deberse algunos factores. Pero nuestro trabajo es convertir los datos que sean de tipo numerico a numero para que pandas puedas realizar los calculos correctamente."
   ]
  },
  {
   "cell_type": "code",
   "execution_count": 14,
   "id": "bdb5b0df-d7a3-4bef-8308-b5278d583be4",
   "metadata": {},
   "outputs": [],
   "source": [
    "# Para comenzar el tratamiento comenzando importando la biblioteca numpy\n",
    "import numpy as np"
   ]
  },
  {
   "cell_type": "code",
   "execution_count": 15,
   "id": "e6f52810-d03d-4542-aa8e-0f7218ede1d7",
   "metadata": {},
   "outputs": [
    {
     "name": "stdout",
     "output_type": "stream",
     "text": [
      "<class 'pandas.core.frame.DataFrame'>\n",
      "RangeIndex: 3818 entries, 0 to 3817\n",
      "Data columns (total 13 columns):\n",
      " #   Column                Non-Null Count  Dtype \n",
      "---  ------                --------------  ----- \n",
      " 0   avaliacao_geral       3818 non-null   object\n",
      " 1   experiencia_local     3818 non-null   object\n",
      " 2   max_hospedes          3818 non-null   int64 \n",
      " 3   descricao_local       3818 non-null   object\n",
      " 4   descricao_vizinhanca  3818 non-null   object\n",
      " 5   quantidade_banheiros  3818 non-null   object\n",
      " 6   quantidade_quartos    3818 non-null   object\n",
      " 7   quantidade_camas      3818 non-null   object\n",
      " 8   modelo_cama           3818 non-null   object\n",
      " 9   comodidades           3818 non-null   object\n",
      " 10  taxa_deposito         3818 non-null   object\n",
      " 11  taxa_limpeza          3818 non-null   object\n",
      " 12  preco                 3818 non-null   object\n",
      "dtypes: int64(1), object(12)\n",
      "memory usage: 387.9+ KB\n"
     ]
    }
   ],
   "source": [
    "# Vamos a comenzar por la columna \"max_hopedes\"\n",
    "# Asignaremos a esa columna el valor de la conversión de los datos a \"np.int64\" usando el metodo \"astype\"\n",
    "info_moveis_exploded['max_hospedes'] = info_moveis_exploded['max_hospedes'].astype(np.int64)\n",
    "info_moveis_exploded.info()"
   ]
  },
  {
   "cell_type": "code",
   "execution_count": 16,
   "id": "e42e4d9f-9a94-4065-8f5f-39f60318f7e3",
   "metadata": {},
   "outputs": [
    {
     "name": "stdout",
     "output_type": "stream",
     "text": [
      "<class 'pandas.core.frame.DataFrame'>\n",
      "RangeIndex: 3818 entries, 0 to 3817\n",
      "Data columns (total 13 columns):\n",
      " #   Column                Non-Null Count  Dtype \n",
      "---  ------                --------------  ----- \n",
      " 0   avaliacao_geral       3818 non-null   object\n",
      " 1   experiencia_local     3818 non-null   object\n",
      " 2   max_hospedes          3818 non-null   int64 \n",
      " 3   descricao_local       3818 non-null   object\n",
      " 4   descricao_vizinhanca  3818 non-null   object\n",
      " 5   quantidade_banheiros  3818 non-null   int64 \n",
      " 6   quantidade_quartos    3818 non-null   int64 \n",
      " 7   quantidade_camas      3818 non-null   int64 \n",
      " 8   modelo_cama           3818 non-null   object\n",
      " 9   comodidades           3818 non-null   object\n",
      " 10  taxa_deposito         3818 non-null   object\n",
      " 11  taxa_limpeza          3818 non-null   object\n",
      " 12  preco                 3818 non-null   object\n",
      "dtypes: int64(4), object(9)\n",
      "memory usage: 387.9+ KB\n"
     ]
    }
   ],
   "source": [
    "# Podemos acelerar el proceso, haciendo una lista con las columnas de tipo numerico y aplicando astyp(np.int64) a todas ellas.\n",
    "col_num_entero = ['quantidade_banheiros','quantidade_quartos','quantidade_camas']\n",
    "info_moveis_exploded[col_num_entero]= info_moveis_exploded[col_num_entero].astype(np.int64)\n",
    "info_moveis_exploded.info()"
   ]
  },
  {
   "cell_type": "code",
   "execution_count": 17,
   "id": "d77ab8b7-f370-48ac-8e25-7249763bfb50",
   "metadata": {},
   "outputs": [
    {
     "name": "stdout",
     "output_type": "stream",
     "text": [
      "<class 'pandas.core.frame.DataFrame'>\n",
      "RangeIndex: 3818 entries, 0 to 3817\n",
      "Data columns (total 13 columns):\n",
      " #   Column                Non-Null Count  Dtype  \n",
      "---  ------                --------------  -----  \n",
      " 0   avaliacao_geral       3162 non-null   float64\n",
      " 1   experiencia_local     3818 non-null   object \n",
      " 2   max_hospedes          3818 non-null   int64  \n",
      " 3   descricao_local       3818 non-null   object \n",
      " 4   descricao_vizinhanca  3818 non-null   object \n",
      " 5   quantidade_banheiros  3818 non-null   int64  \n",
      " 6   quantidade_quartos    3818 non-null   int64  \n",
      " 7   quantidade_camas      3818 non-null   int64  \n",
      " 8   modelo_cama           3818 non-null   object \n",
      " 9   comodidades           3818 non-null   object \n",
      " 10  taxa_deposito         3818 non-null   object \n",
      " 11  taxa_limpeza          3818 non-null   object \n",
      " 12  preco                 3818 non-null   object \n",
      "dtypes: float64(1), int64(4), object(8)\n",
      "memory usage: 387.9+ KB\n"
     ]
    }
   ],
   "source": [
    "# Ahora vamos a convertir la columna \"avaliacao_geral\" en dato tipo \"float64\" usando numpy\n",
    "# repetimos el proceso.\n",
    "info_moveis_exploded['avaliacao_geral']= info_moveis_exploded['avaliacao_geral'].astype(np.float64)\n",
    "info_moveis_exploded.info()"
   ]
  },
  {
   "cell_type": "markdown",
   "id": "2d7b94b4-54e8-4fa1-842f-23a1864c5f61",
   "metadata": {},
   "source": [
    "Hasta ahora pudimos convertir, sin novedad los datos. Pero tenemos las últimas tres columnas del dataframe que tienen simbolos, para eso es necesario tratar los datos ya que no posible convertir a numero esos caracteres\n"
   ]
  },
  {
   "cell_type": "code",
   "execution_count": 18,
   "id": "c45595eb-d23f-4b96-865b-358f731d4bfd",
   "metadata": {},
   "outputs": [
    {
     "name": "stdout",
     "output_type": "stream",
     "text": [
      "\n",
      "🔍 ¿Qué hace?\n",
      "    Elimina los símbolos $ y las comas , de los datos.\n",
      "    Convierte los valores de texto a números flotantes (float) para poder hacer cálculos.\n",
      "🔥 Explicación del regex '[$,]':\n",
      "    Los corchetes [] indican: \"cualquier carácter dentro\".\n",
      "    '[$,]' significa: \"quita $ y ,\".\n",
      "✅ Se usa regex=True para que el patrón sea interpretado como una expresión regular, no como texto normal.\n",
      "\n"
     ]
    }
   ],
   "source": [
    "# Crearemos una lista con las columnas de interes\n",
    "eliminar_caracteres_especiales = ['taxa_deposito','taxa_limpeza','preco']\n",
    "# Crear un for para ejecutar la limpieza\n",
    "for col in eliminar_caracteres_especiales:\n",
    "    info_moveis_exploded[col] = info_moveis_exploded[col].str.replace('[$,]','', regex=True).astype(np.float64)\n",
    "print('''\n",
    "🔍 ¿Qué hace?\n",
    "    Elimina los símbolos $ y las comas , de los datos.\n",
    "    Convierte los valores de texto a números flotantes (float) para poder hacer cálculos.\n",
    "🔥 Explicación del regex '[$,]':\n",
    "    Los corchetes [] indican: \"cualquier carácter dentro\".\n",
    "    '[$,]' significa: \"quita $ y ,\".\n",
    "✅ Se usa regex=True para que el patrón sea interpretado como una expresión regular, no como texto normal.\n",
    "''')"
   ]
  },
  {
   "cell_type": "code",
   "execution_count": 19,
   "id": "7dd990d1-a4e3-4d19-8b00-f4666b1638d6",
   "metadata": {},
   "outputs": [
    {
     "name": "stdout",
     "output_type": "stream",
     "text": [
      "<class 'pandas.core.frame.DataFrame'>\n",
      "RangeIndex: 3818 entries, 0 to 3817\n",
      "Data columns (total 13 columns):\n",
      " #   Column                Non-Null Count  Dtype  \n",
      "---  ------                --------------  -----  \n",
      " 0   avaliacao_geral       3162 non-null   float64\n",
      " 1   experiencia_local     3818 non-null   object \n",
      " 2   max_hospedes          3818 non-null   int64  \n",
      " 3   descricao_local       3818 non-null   object \n",
      " 4   descricao_vizinhanca  3818 non-null   object \n",
      " 5   quantidade_banheiros  3818 non-null   int64  \n",
      " 6   quantidade_quartos    3818 non-null   int64  \n",
      " 7   quantidade_camas      3818 non-null   int64  \n",
      " 8   modelo_cama           3818 non-null   object \n",
      " 9   comodidades           3818 non-null   object \n",
      " 10  taxa_deposito         3818 non-null   float64\n",
      " 11  taxa_limpeza          3818 non-null   float64\n",
      " 12  preco                 3818 non-null   float64\n",
      "dtypes: float64(4), int64(4), object(5)\n",
      "memory usage: 387.9+ KB\n"
     ]
    }
   ],
   "source": [
    "info_moveis_exploded.info()"
   ]
  },
  {
   "cell_type": "code",
   "execution_count": 27,
   "id": "6a3515e1-1b35-4c36-8b3b-9fe741830572",
   "metadata": {},
   "outputs": [
    {
     "name": "stdout",
     "output_type": "stream",
     "text": [
      "\n",
      "    🔍 ¿Qué hace?\n",
      "\n",
      "✅ Elimina $ y , de las columnas en col_float64.\n",
      "\n",
      "✅ Usa .strip() para eliminar espacios en blanco.\n",
      "\n",
      "✅ Convierte los valores a tipo float64.\n",
      "    \n",
      "<class 'pandas.core.frame.DataFrame'>\n",
      "Index: 3818 entries, 0 to 69\n",
      "Data columns (total 3 columns):\n",
      " #   Column         Non-Null Count  Dtype  \n",
      "---  ------         --------------  -----  \n",
      " 0   taxa_deposito  3818 non-null   float64\n",
      " 1   taxa_limpeza   3818 non-null   float64\n",
      " 2   preco          3818 non-null   float64\n",
      "dtypes: float64(3)\n",
      "memory usage: 119.3 KB\n"
     ]
    }
   ],
   "source": [
    "#Otra opción para limpiar los caracteres de \"$\", \",\", \".\" o espacios vacios es usando \"applymap\"\n",
    "# Crearemos otra variable con los datos despues del explode para trabjar, ya que la anterior fue modificada y se encuentra actualizada\n",
    "\n",
    "info_moveis_explode2 = info_moveis.explode(info_moveis_columnas[3:])\n",
    "# Usaremos este data frame solo para ejemplificar el uso del map en las ultimas tres columnas\n",
    "# Creamos la lista con las columnas\n",
    "col_float64 = ['taxa_deposito','taxa_limpeza','preco']\n",
    "print(\n",
    "    '''\n",
    "    🔍 ¿Qué hace?\n",
    "\n",
    "✅ Elimina $ y , de las columnas en col_float64.\n",
    "\n",
    "✅ Usa .strip() para eliminar espacios en blanco.\n",
    "\n",
    "✅ Convierte los valores a tipo float64.\n",
    "    '''\n",
    ")\n",
    "\n",
    "df = info_moveis_explode2[col_float64].map(lambda x: x.replace('$','').replace(',','').strip()).astype(np.float64)\n",
    "df.info()\n"
   ]
  },
  {
   "cell_type": "code",
   "execution_count": 26,
   "id": "084d48e4-89ef-44a3-8464-6737b5c0655d",
   "metadata": {
    "jupyter": {
     "source_hidden": true
    }
   },
   "outputs": [
    {
     "name": "stdout",
     "output_type": "stream",
     "text": [
      "\n",
      "🔸 Comparación rápida:\n",
      "✅ for + str.replace()\n",
      "➡️ Se usa cuando solo quieres limpiar algunas columnas específicas.\n",
      "➡️ Código muy claro y directo.\n",
      "\n",
      "✅ applymap()\n",
      "➡️ Se usa cuando quieres aplicar la transformación a todo el DataFrame.\n",
      "➡️ Más limpio y compacto si todas las columnas tienen ese problema.\n",
      "\n"
     ]
    }
   ],
   "source": [
    "print(\n",
    "'''\n",
    "🔸 Comparación rápida:\n",
    "✅ for + str.replace()\n",
    "➡️ Se usa cuando solo quieres limpiar algunas columnas específicas.\n",
    "➡️ Código muy claro y directo.\n",
    "\n",
    "✅ applymap()\n",
    "➡️ Se usa cuando quieres aplicar la transformación a todo el DataFrame.\n",
    "➡️ Más limpio y compacto si todas las columnas tienen ese problema.\n",
    "''')"
   ]
  },
  {
   "cell_type": "code",
   "execution_count": 20,
   "id": "e3adffd4-8d38-439a-8712-c99b6c2c9296",
   "metadata": {},
   "outputs": [
    {
     "data": {
      "text/html": [
       "<div>\n",
       "<style scoped>\n",
       "    .dataframe tbody tr th:only-of-type {\n",
       "        vertical-align: middle;\n",
       "    }\n",
       "\n",
       "    .dataframe tbody tr th {\n",
       "        vertical-align: top;\n",
       "    }\n",
       "\n",
       "    .dataframe thead th {\n",
       "        text-align: right;\n",
       "    }\n",
       "</style>\n",
       "<table border=\"1\" class=\"dataframe\">\n",
       "  <thead>\n",
       "    <tr style=\"text-align: right;\">\n",
       "      <th></th>\n",
       "      <th>id</th>\n",
       "      <th>data</th>\n",
       "      <th>vaga_disponivel</th>\n",
       "      <th>preco</th>\n",
       "    </tr>\n",
       "  </thead>\n",
       "  <tbody>\n",
       "    <tr>\n",
       "      <th>0</th>\n",
       "      <td>857</td>\n",
       "      <td>2016-01-04</td>\n",
       "      <td>False</td>\n",
       "      <td>None</td>\n",
       "    </tr>\n",
       "    <tr>\n",
       "      <th>1</th>\n",
       "      <td>857</td>\n",
       "      <td>2016-01-05</td>\n",
       "      <td>False</td>\n",
       "      <td>None</td>\n",
       "    </tr>\n",
       "    <tr>\n",
       "      <th>2</th>\n",
       "      <td>857</td>\n",
       "      <td>2016-01-06</td>\n",
       "      <td>False</td>\n",
       "      <td>None</td>\n",
       "    </tr>\n",
       "    <tr>\n",
       "      <th>3</th>\n",
       "      <td>857</td>\n",
       "      <td>2016-01-07</td>\n",
       "      <td>False</td>\n",
       "      <td>None</td>\n",
       "    </tr>\n",
       "    <tr>\n",
       "      <th>4</th>\n",
       "      <td>857</td>\n",
       "      <td>2016-01-08</td>\n",
       "      <td>False</td>\n",
       "      <td>None</td>\n",
       "    </tr>\n",
       "  </tbody>\n",
       "</table>\n",
       "</div>"
      ],
      "text/plain": [
       "    id        data  vaga_disponivel preco\n",
       "0  857  2016-01-04            False  None\n",
       "1  857  2016-01-05            False  None\n",
       "2  857  2016-01-06            False  None\n",
       "3  857  2016-01-07            False  None\n",
       "4  857  2016-01-08            False  None"
      ]
     },
     "execution_count": 20,
     "metadata": {},
     "output_type": "execute_result"
    }
   ],
   "source": [
    "df_datos_inmuebles = pd.DataFrame(datos_inmuebles)\n",
    "df_datos_inmuebles.head()"
   ]
  },
  {
   "cell_type": "code",
   "execution_count": null,
   "id": "bb8e2efa-d143-44af-ab13-f38579159cd0",
   "metadata": {},
   "outputs": [],
   "source": []
  }
 ],
 "metadata": {
  "kernelspec": {
   "display_name": "Python (mi_entorno)",
   "language": "python",
   "name": "mi_entorno"
  },
  "language_info": {
   "codemirror_mode": {
    "name": "ipython",
    "version": 3
   },
   "file_extension": ".py",
   "mimetype": "text/x-python",
   "name": "python",
   "nbconvert_exporter": "python",
   "pygments_lexer": "ipython3",
   "version": "3.13.2"
  }
 },
 "nbformat": 4,
 "nbformat_minor": 5
}
